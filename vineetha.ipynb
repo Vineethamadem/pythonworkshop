{
 "cells": [
  {
   "cell_type": "markdown",
   "metadata": {},
   "source": [
    "# RESUME\n",
    "## Contact details:\n",
    "```Name```: M.Vineetha <br>\n",
    "```Phone number```: 9347374353 <br>\n",
    "```Email id```: mademvineetha@gmail.com \n",
    "## Education details: \n",
    "\n",
    "Education | Name | marks\n",
    "-|-|-\n",
    "ssc | TVK School | 9.0\n",
    "Diploma | government polytechnic for women | 77\n",
    "\n",
    "## Achivements:\n",
    "* i got good rank in polytechnic <br> \n",
    "* i got good marks in GPA\n",
    "## Image\n"
   ]
  }
 ],
 "metadata": {
  "kernelspec": {
   "display_name": "Python 3",
   "language": "python",
   "name": "python3"
  },
  "language_info": {
   "codemirror_mode": {
    "name": "ipython",
    "version": 3
   },
   "file_extension": ".py",
   "mimetype": "text/x-python",
   "name": "python",
   "nbconvert_exporter": "python",
   "pygments_lexer": "ipython3",
   "version": "3.7.3"
  }
 },
 "nbformat": 4,
 "nbformat_minor": 2
}
