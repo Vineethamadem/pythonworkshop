{
 "cells": [
  {
   "cell_type": "markdown",
   "metadata": {},
   "source": []
  },
  {
   "cell_type": "markdown",
   "metadata": {},
   "source": [
    "- point\n",
    "* point\n",
    "* point\n",
    "* point\n",
    "* point\n",
    "    * point\n",
    "    * point\n",
    "        * point\n",
    "        \n",
    "i am in **Bold** style <br>\n",
    "i am in *Italic* style <br>\n",
    "i am in ***Bold+Italic*** style\n",
    "\n",
    "hi guys, welcome to ```APSSDC```\n",
    "\n",
    "- insert tables\n",
    "\n",
    "col1 | col2 | col3\n",
    "-|-|-\n",
    "r1 | r2 | r3 |\n",
    "r4 | r5 | r6 |\n",
    "\n",
    "- Inserting link\n",
    "[python official wedsite]\n",
    "\n",
    "-insert images\n",
    "\n",
    "![](vignan06.jpg)\n",
    "\n",
    "\n",
    "<img src=vignan06.jpg height=\"80%\" width=\"60%\">"
   ]
  },
  {
   "cell_type": "code",
   "execution_count": null,
   "metadata": {},
   "outputs": [],
   "source": []
  },
  {
   "cell_type": "code",
   "execution_count": null,
   "metadata": {},
   "outputs": [],
   "source": []
  }
 ],
 "metadata": {
  "kernelspec": {
   "display_name": "Python 3",
   "language": "python",
   "name": "python3"
  },
  "language_info": {
   "codemirror_mode": {
    "name": "ipython",
    "version": 3
   },
   "file_extension": ".py",
   "mimetype": "text/x-python",
   "name": "python",
   "nbconvert_exporter": "python",
   "pygments_lexer": "ipython3",
   "version": "3.7.3"
  }
 },
 "nbformat": 4,
 "nbformat_minor": 2
}
